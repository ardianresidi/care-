{
 "cells": [
  {
   "cell_type": "code",
   "execution_count": 1,
   "id": "be5b3365",
   "metadata": {},
   "outputs": [
    {
     "data": {
      "text/plain": [
       "['PEFR_predictor.joblib']"
      ]
     },
     "execution_count": 1,
     "metadata": {},
     "output_type": "execute_result"
    }
   ],
   "source": [
    "import pandas as pd\n",
    "from sklearn.tree import DecisionTreeClassifier as dtc\n",
    "import joblib\n",
    "\n",
    "data=pd.read_csv(\"PEFR_Data_set.csv\")\n",
    "data.shape\n",
    "X=data.drop(columns=['Age','Height','PEFR'])\n",
    "y=data['PEFR']\n",
    "model=dtc()\n",
    "model.fit(X,y)\n",
    "joblib.dump(model, 'PEFR_predictor.joblib')\n"
   ]
  },
  {
   "cell_type": "code",
   "execution_count": 3,
   "id": "39c29fa3",
   "metadata": {},
   "outputs": [
    {
     "name": "stdout",
     "output_type": "stream",
     "text": [
      "Enter Gender 1-Male 0-Female1\n",
      "Enter Temperature C:22\n",
      "Enter Humidity %:33\n",
      "Enter PM 2.5 Value:44\n",
      "Enter PM 10 Value:22\n",
      "Enter Actual PEFR value334\n",
      "512\n",
      "65.234375\n",
      "MODERATE\n"
     ]
    }
   ],
   "source": [
    "\n",
    "model = joblib.load('PEFR_predictor.joblib')\n",
    "g=int(input(\"Enter Gender 1-Male 0-Female\"))\n",
    "p=float(input('Enter Temperature C:'))\n",
    "q=float(input('Enter Humidity %:'))\n",
    "r=float(input('Enter PM 2.5 Value:'))\n",
    "s=float(input('Enter PM 10 Value:'))\n",
    "prediction = model.predict([[g,p,q,r,s]])\n",
    "predicted_pefr = prediction[0]\n",
    "actual_pefr = float(input(\"Enter Actual PEFR value\"))\n",
    "print(predicted_pefr)\n",
    "perpefr = (actual_pefr/predicted_pefr)*100\n",
    "print(perpefr)\n",
    "if perpefr >= 80:\n",
    "    print('SAFE')\n",
    "elif perpefr >= 50:\n",
    "    print('MODERATE')\n",
    "else:\n",
    "    print('RISK')\n"
   ]
  },
  {
   "cell_type": "code",
   "execution_count": null,
   "id": "66e1edfe",
   "metadata": {},
   "outputs": [],
   "source": []
  }
 ],
 "metadata": {
  "kernelspec": {
   "display_name": "Python 3 (ipykernel)",
   "language": "python",
   "name": "python3"
  },
  "language_info": {
   "codemirror_mode": {
    "name": "ipython",
    "version": 3
   },
   "file_extension": ".py",
   "mimetype": "text/x-python",
   "name": "python",
   "nbconvert_exporter": "python",
   "pygments_lexer": "ipython3",
   "version": "3.7.5"
  }
 },
 "nbformat": 4,
 "nbformat_minor": 5
}
